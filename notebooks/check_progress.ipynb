{
 "cells": [
  {
   "metadata": {},
   "cell_type": "code",
   "outputs": [],
   "execution_count": null,
   "source": [
    "import sys\n",
    "\n",
    "sys.path.append('/workspace/current/loce')\n",
    "\n",
    "from bg_randomized_loce.utils.loce_storage_helpers import pkl_todo_count\n",
    "from bg_randomized_loce.utils.consts import _BG_DATASET_KEY, _MODEL_KEY, _DATASET_KEY, _CE_METHOD_KEY, DATA_BUILDERS\n",
    "from typing import get_args\n",
    "import itertools\n",
    "from tqdm.notebook import tqdm\n",
    "import pandas as pd\n",
    "\n",
    "exclude_cats = {\n",
    "    'pascal_voc': [21, 22, 23, 24, 25],\n",
    "    'imagenets50': ['ignore', 1000],\n",
    "}\n",
    "\n",
    "results_dir = '/workspace/current/loce/results'\n",
    "all_combis = list(\n",
    "    itertools.product(get_args(_CE_METHOD_KEY), get_args(_DATASET_KEY), get_args(_BG_DATASET_KEY), (1, 4, 8, 32),\n",
    "                      get_args(_MODEL_KEY)))\n",
    "count_done, count_in_progress = 0, 0\n",
    "results_list = []\n",
    "for ce_method, dataset_key, bg_randomizer_key, num_bgs_per_ce, model_key in tqdm(all_combis):\n",
    "    for category_id, category_name in DATA_BUILDERS[dataset_key][0]:\n",
    "        if category_id in exclude_cats[dataset_key]: continue\n",
    "        if bg_randomizer_key == 'vanilla' and num_bgs_per_ce > 1: continue\n",
    "\n",
    "        num_todo = pkl_todo_count(results_dir, run='run1', ce_method=ce_method, bg_randomizer_key=bg_randomizer_key,\n",
    "                               num_bgs_per_ce=num_bgs_per_ce, dataset_key=dataset_key, model_key=model_key,\n",
    "                               category_id=category_id)\n",
    "\n",
    "        results_list.append(\n",
    "            dict(status='TODO' if num_todo > 0 else 'DONE', remaining=num_todo,\n",
    "                 ce_method=ce_method, dataset_key=dataset_key, bg_randomizer_key=bg_randomizer_key,\n",
    "                 num_bgs_per_ce=num_bgs_per_ce, model_key=model_key, category_id=category_id))\n",
    "        #print(f\"{status}\\t {_file_glob}\")\n",
    "\n",
    "rdf = pd.DataFrame(results_list)"
   ],
   "id": "6b45116c16718d04"
  },
  {
   "metadata": {},
   "cell_type": "code",
   "outputs": [],
   "execution_count": null,
   "source": [
    "# only the used ce_methods\n",
    "frdf = rdf[rdf['ce_method'].isin(['net2vec_proper_bce', 'loce_proper_bce'])]\n",
    "# only 1 bg per file for vanilla bg_randomizer_key\n",
    "frdf = frdf[~((frdf['num_bgs_per_ce'] > 1) & (frdf['bg_randomizer_key'] == 'vanilla'))]\n",
    "# just exclude those where none is remaining\n",
    "frdf = frdf[frdf['remaining'] >= 0]\n",
    "\n",
    "# print results\n",
    "for ce_method in frdf['ce_method'].unique():\n",
    "    for stat in frdf['status'].unique():\n",
    "        print(stat, ce_method, len(frdf[(frdf['status'] == stat) & (frdf['ce_method'] == ce_method)].index) / len(\n",
    "            frdf[frdf['ce_method'] == ce_method].index) * 100)\n",
    "\n",
    "frdf[frdf['status'] == 'TODO']"
   ],
   "id": "cac302c015826309"
  },
  {
   "cell_type": "code",
   "execution_count": null,
   "id": "b8eb1e5b2cf559f2",
   "metadata": {},
   "outputs": [],
   "source": [
    "todo = frdf[frdf['status'] != 'DONE']\n",
    "#for c in frdf.columns: print(c, todo[todo['num_bgs_per_ce'] < 16][c].unique())\n",
    "todo[todo['num_bgs_per_ce'] == 1]"
   ]
  },
  {
   "cell_type": "code",
   "execution_count": null,
   "id": "d4b51369f04f8cae",
   "metadata": {},
   "outputs": [],
   "source": [
    "todo = frdf[frdf['status'] != 'DONE']\n",
    "#for c in frdf.columns: print(c, todo[todo['num_bgs_per_ce'] < 16][c].unique())\n",
    "display(todo)"
   ]
  }
 ],
 "metadata": {
  "kernelspec": {
   "display_name": "project",
   "language": "python",
   "name": "project"
  },
  "language_info": {
   "codemirror_mode": {
    "name": "ipython",
    "version": 3
   },
   "file_extension": ".py",
   "mimetype": "text/x-python",
   "name": "python",
   "nbconvert_exporter": "python",
   "pygments_lexer": "ipython3",
   "version": "3.12.3"
  }
 },
 "nbformat": 4,
 "nbformat_minor": 5
}
