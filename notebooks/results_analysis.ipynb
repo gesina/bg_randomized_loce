{
 "cells": [
  {
   "metadata": {},
   "cell_type": "code",
   "outputs": [],
   "execution_count": null,
   "source": [
    "PROJECT_DIR = '/workspace/current/loce'\n",
    "\n",
    "import sys\n",
    "sys.path.append(PROJECT_DIR)\n",
    "\n",
    "from bg_randomized_loce.utils.loce_storage_helpers import all_pkls_to_npz\n",
    "from bg_randomized_loce.utils.eval_util import with_globalized_ces\n",
    "import pandas as pd\n",
    "pd.set_option('display.max_rows', 1000)\n",
    "import numpy as np\n",
    "\n",
    "bg_randomized_loce.utils.consts.PROJECT_DIR = PROJECT_DIR\n"
   ],
   "id": "f3f6a746b91724c8"
  },
  {
   "metadata": {},
   "cell_type": "markdown",
   "source": "## Load the concept vectors with meta info",
   "id": "e59b9040682635b6"
  },
  {
   "metadata": {},
   "cell_type": "code",
   "outputs": [],
   "execution_count": null,
   "source": [
    "results_dir = os.path.join(PROJECT_DIR, 'results')\n",
    "npz_dir = os.path.join(PROJECT_DIR, 'data/results/npz')\n",
    "\n",
    "ce_infos = await all_pkls_to_npz(results_dir=results_dir, npz_dir=npz_dir)#, force_update=True)\n",
    "assert len(ce_infos) > 0\n",
    "# to dataframe\n",
    "orig_df = pd.DataFrame(ce_infos)\n",
    "df: pd.DataFrame = with_globalized_ces(orig_df.copy(), experiment_setting_cols=EXPERIMENT_SETTING_COLS, add_depth=True)\n",
    "\n",
    "## Global CEs\n",
    "df_glo = df[df[GLO_OR_LOC] == GLOBAL]\n",
    "## Local CEs\n",
    "df_loc = df[df[GLO_OR_LOC] == LOCAL]\n",
    "## Local-to-global CEs via averaging\n",
    "df_loglo = df[df[GLO_OR_LOC] == LOC_TO_GLOB]\n",
    "\n",
    "# display some simple stats\n",
    "display(df.columns)  # what columns exist?\n",
    "for col in [*EXPERIMENT_SETTING_COLS, *DERIVED_SETTINGS]: print(col, df[col].unique())\n",
    "\n",
    "nans = df[df[CE].apply(lambda x: np.any(np.isnan(x)))]\n",
    "print('Total entries:', len(df.index))  # how many entries in total?\n",
    "print('NaN values:', len(nans.index))  # how may of these contain vectors with NaN entries?"
   ],
   "id": "ff0bcfbfb015f5ac"
  },
  {
   "cell_type": "markdown",
   "id": "ebcdf80b56737068",
   "metadata": {},
   "source": [
    "## Move all npz files into a faster filesystem\n",
    "```python\n",
    "import shutil\n",
    "npz_paths = tqdm(list(Path(results_dir).glob('**/*.npz')))\n",
    "for npz_path in npz_paths:\n",
    "    npz_newpath = Path(PROJECT_DIR)/'data/results/npz'/npz_path.relative_to(results_dir)\n",
    "    os.makedirs(os.path.dirname(npz_newpath), exist_ok=True)\n",
    "    shutil.copy2(npz_path, npz_newpath)\n",
    "```"
   ]
  },
  {
   "cell_type": "markdown",
   "id": "58629de1cb345583",
   "metadata": {},
   "source": [
    "# Experiment plan\n",
    "\n",
    "1. Similarity:\n",
    "   - [ ] Global, local-to-global: Cosine Similarity (TO RUN)\n",
    "   - ~~Local: Wasserstein distance (TO IMPLEMENT)~~\n",
    "2. Generalization (only global, local-to-global): IoU drop from vanilla to bg randomized test data\n",
    "   - [X] mean IoU with/without training-time randomization\n",
    "3. Background bias: Mean IoU drop for concept-background pairs\n",
    "   - [X] mean IoU for concept-background pairs; relative drop\n"
   ]
  }
 ],
 "metadata": {
  "kernelspec": {
   "display_name": "project",
   "language": "python",
   "name": "project"
  },
  "language_info": {
   "codemirror_mode": {
    "name": "ipython",
    "version": 3
   },
   "file_extension": ".py",
   "mimetype": "text/x-python",
   "name": "python",
   "nbconvert_exporter": "python",
   "pygments_lexer": "ipython3",
   "version": "3.12.3"
  }
 },
 "nbformat": 4,
 "nbformat_minor": 5
}
